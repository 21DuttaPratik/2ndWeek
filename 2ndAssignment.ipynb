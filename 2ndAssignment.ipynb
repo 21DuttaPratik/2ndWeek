{
 "cells": [
  {
   "cell_type": "code",
   "execution_count": 1,
   "id": "d67101bd-dd5a-4b10-ab17-13242cbe7fc7",
   "metadata": {},
   "outputs": [
    {
     "data": {
      "text/plain": [
       "'\\nMultiple lines can be commented.\\nJust like this .\\nBy using 3 single or double quotes\\n'"
      ]
     },
     "execution_count": 24,
     "metadata": {},
     "output_type": "execute_result"
    }
   ],
   "source": [
    "# Q1.\n",
    "# Single line comment\n",
    "\"\"\"\n",
    "Multiple lines can be commented.\n",
    "Just like this .\n",
    "By using 3 single or double quotes\n",
    "\"\"\"\n"
   ]
  },
  {
   "cell_type": "code",
   "execution_count": 2,
   "id": "970323ea-49d5-4cd2-9020-b613e94f0e55",
   "metadata": {},
   "outputs": [
    {
     "data": {
      "text/plain": [
       "'\\nQ2..\\nVariables are bascially named storage space. In Python we have several types of variable\\nlike int,float,complex,Boolean,string{these are primitive Dtypes}\\nand list,Tuples,set,dictionary{non primitive}\\nto assign values to variable one has to just name the variable , no need to specify the DTypes, and assign your \\nvalue/values in it. It would understand the Data type by looking at the assigned value to the variable\\n\\nsymantics:\\n\\n    variable_name = value\\n\\n\\nexample:\\n\\nname=\"Pratik\"\\nnum1=90\\nnum2=77\\n\\n'"
      ]
     },
     "execution_count": 25,
     "metadata": {},
     "output_type": "execute_result"
    }
   ],
   "source": [
    "\"\"\"\n",
    "Q2..\n",
    "Variables are bascially named storage space. In Python we have several types of variable\n",
    "like int,float,complex,Boolean,string{these are primitive Dtypes}\n",
    "and list,Tuples,set,dictionary{non primitive}\n",
    "to assign values to variable one has to just name the variable , no need to specify the DTypes, and assign your \n",
    "value/values in it. It would understand the Data type by looking at the assigned value to the variable\n",
    "\n",
    "symantics:\n",
    "\n",
    "    variable_name = value\n",
    "\n",
    "\n",
    "example:\n",
    "\n",
    "name=\"Pratik\"\n",
    "num1=90\n",
    "num2=77\n",
    "\n",
    "\"\"\""
   ]
  },
  {
   "cell_type": "code",
   "execution_count": 3,
   "id": "390e25ad-7971-4ec5-a5b6-8c754ddb3eea",
   "metadata": {},
   "outputs": [
    {
     "data": {
      "text/plain": [
       "'\\nQ3...\\nTo convert a data type into another we need to do type casting.\\nlike the input function always treat the input as a string, even if you are entering a int or float,\\nit will treat it as if a string.To mitigate this we use\\n\\nX=int(inpuut(Enter the number:))\\n\\nnow the input stream will be converted into integer as i write \"int\".\\none can use any Data type to type casting\\n'"
      ]
     },
     "execution_count": 26,
     "metadata": {},
     "output_type": "execute_result"
    }
   ],
   "source": [
    "\"\"\"\n",
    "Q3...\n",
    "To convert a data type into another we need to do type casting.\n",
    "like the input function always treat the input as a string, even if you are entering a int or float,\n",
    "it will treat it as if a string.To mitigate this we use\n",
    "\n",
    "X=int(inpuut(Enter the number:))\n",
    "\n",
    "now the input stream will be converted into integer as i write \"int\".\n",
    "one can use any Data type to type casting\n",
    "\"\"\""
   ]
  },
  {
   "cell_type": "code",
   "execution_count": 6,
   "id": "e3a1cb57-e2c2-470a-8f0a-c3cf2ce9d64a",
   "metadata": {},
   "outputs": [],
   "source": [
    "# Q5.....\n",
    "my_list=[1,2,3,4,5]\n",
    "sub_list=my_list[1:3]\n",
    "\n"
   ]
  },
  {
   "cell_type": "code",
   "execution_count": 7,
   "id": "4e4b0588-d444-44a1-b680-7f6c341d2a95",
   "metadata": {},
   "outputs": [
    {
     "data": {
      "text/plain": [
       "[2, 3]"
      ]
     },
     "execution_count": 28,
     "metadata": {},
     "output_type": "execute_result"
    }
   ],
   "source": [
    "sub_list"
   ]
  },
  {
   "cell_type": "code",
   "execution_count": 8,
   "id": "89e866fc-ec14-471c-81f2-ed67ed638e18",
   "metadata": {},
   "outputs": [
    {
     "data": {
      "text/plain": [
       "'\\nQ6......\\nin Maths complex number is a number consist of two parts, i.e,\\nreal part and imaginary part\\nexample: 9+8i\\nwhere 8 is in imaginary plane \\nand 9 is on real plane\\nin python insted of using i, we need to use j.\\n'"
      ]
     },
     "execution_count": 29,
     "metadata": {},
     "output_type": "execute_result"
    }
   ],
   "source": [
    "\"\"\"\n",
    "Q6......\n",
    "in Maths complex number is a number consist of two parts, i.e,\n",
    "real part and imaginary part\n",
    "example: 9+8i\n",
    "where 8 is in imaginary plane \n",
    "and 9 is on real plane\n",
    "in python insted of using i, we need to use j.\n",
    "\"\"\""
   ]
  },
  {
   "cell_type": "code",
   "execution_count": 9,
   "id": "ee783fe6-cd75-4782-ae6b-daa01d0eec21",
   "metadata": {},
   "outputs": [],
   "source": [
    "# Q7.......\n",
    "# correct way to store 25 to an variable name \"age\"\n",
    "\n",
    "# age= 25"
   ]
  },
  {
   "cell_type": "code",
   "execution_count": 16,
   "id": "3ad71f1c-8ba2-4f1f-8388-f839a2a99c87",
   "metadata": {},
   "outputs": [],
   "source": [
    "#Q8........\n",
    "price=9.99"
   ]
  },
  {
   "cell_type": "code",
   "execution_count": 17,
   "id": "049d42ac-4e5e-4cf3-ac83-b87d70a87b18",
   "metadata": {},
   "outputs": [
    {
     "data": {
      "text/plain": [
       "float"
      ]
     },
     "execution_count": 32,
     "metadata": {},
     "output_type": "execute_result"
    }
   ],
   "source": [
    "type(price)"
   ]
  },
  {
   "cell_type": "code",
   "execution_count": 18,
   "id": "392bb84d-c2bf-4bdd-bf21-22e1f35e9d10",
   "metadata": {},
   "outputs": [],
   "source": [
    "#Q9.........\n",
    "name=\"Pratik Dutta\"\n"
   ]
  },
  {
   "cell_type": "code",
   "execution_count": 19,
   "id": "794093e8-e450-4858-93fe-07313fcb878c",
   "metadata": {},
   "outputs": [
    {
     "name": "stdout",
     "output_type": "stream",
     "text": [
      "Pratik Dutta\n"
     ]
    }
   ],
   "source": [
    "print(name)"
   ]
  },
  {
   "cell_type": "code",
   "execution_count": 22,
   "id": "65aa51c6-06c4-4f9b-94f6-472ccfdd9c8d",
   "metadata": {},
   "outputs": [
    {
     "name": "stdout",
     "output_type": "stream",
     "text": [
      "World\n"
     ]
    }
   ],
   "source": [
    "# Q10..........\n",
    "string=\"Hello,World!\"\n",
    "substring=string[6:11]\n",
    "print(substring)\n"
   ]
  },
  {
   "cell_type": "code",
   "execution_count": 37,
   "id": "d8deaa4a-8cf0-4f34-81f1-166310a4013d",
   "metadata": {},
   "outputs": [
    {
     "data": {
      "text/plain": [
       "bool"
      ]
     },
     "execution_count": 37,
     "metadata": {},
     "output_type": "execute_result"
    }
   ],
   "source": [
    "is_student=True\n",
    "type(is_student)"
   ]
  },
  {
   "cell_type": "code",
   "execution_count": null,
   "id": "0c965663-3bf1-4fc0-94e5-2ed0460b9fa1",
   "metadata": {},
   "outputs": [],
   "source": []
  }
 ],
 "metadata": {
  "kernelspec": {
   "display_name": "Python 3 (ipykernel)",
   "language": "python",
   "name": "python3"
  },
  "language_info": {
   "codemirror_mode": {
    "name": "ipython",
    "version": 3
   },
   "file_extension": ".py",
   "mimetype": "text/x-python",
   "name": "python",
   "nbconvert_exporter": "python",
   "pygments_lexer": "ipython3",
   "version": "3.10.8"
  }
 },
 "nbformat": 4,
 "nbformat_minor": 5
}
